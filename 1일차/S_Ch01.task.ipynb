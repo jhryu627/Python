{
 "cells": [
  {
   "cell_type": "markdown",
   "metadata": {},
   "source": [
    "<span style=\"font-size:100%\">\n",
    "\n",
    "수업은 모두 열심히 들으셨나요?\n",
    "\n",
    "간혹 강의에서 언급되지 않은 내용이 문제로 나올 수 있습니다.<br>\n",
    "그럴땐 강의 내용 외 문제는 구글링을 통해 해결해주세요<br></span>\n",
    "<span style=\"font-size:80%\">\n",
    "(구글링 또한 개발자가 갖쳐야할 역량 중에 하나랍니다 😊)\n",
    "</span>\n",
    "\n",
    "---"
   ]
  },
  {
   "cell_type": "markdown",
   "metadata": {},
   "source": [
    "<span style=\"font-size:80%\">[문제1]<br><br></span>\n",
    "```인터프리트 방식에 대해 설명하고 2개 이상의 장점을 설명해주세요```"
   ]
  },
  {
   "cell_type": "markdown",
   "metadata": {},
   "source": [
    "<span style=\"color:red\">답변</span>"
   ]
  },
  {
   "cell_type": "markdown",
   "metadata": {},
   "source": [
    "코드를 번역 후 바로 실행\n",
    "\n",
    "장점\n",
    "실행 속도 빠름, 동적 프로그래밍 지원, 빠른 개발 가능\n"
   ]
  },
  {
   "cell_type": "markdown",
   "metadata": {},
   "source": [
    "---"
   ]
  },
  {
   "cell_type": "markdown",
   "metadata": {},
   "source": [
    "<span style=\"font-size:80%\">[문제2]<br><br></span>\n",
    "```동적 타입 방식의 장점과 단점을 간략히 설명해주세요```"
   ]
  },
  {
   "cell_type": "markdown",
   "metadata": {},
   "source": [
    "<span style=\"color:red\">답변</span>"
   ]
  },
  {
   "cell_type": "markdown",
   "metadata": {},
   "source": [
    "장점 : 코드 작성 시 타임(용도)에 제한이 없기 떄문에 유연성이 높고 효율적임\n",
    "\n",
    "단점 : 프로그램 실행때 타입에 문제를 확인 할 수 있기 때문에 길고 복잡할 경우 문제 해결이 쉽지 않음"
   ]
  },
  {
   "cell_type": "markdown",
   "metadata": {},
   "source": [
    "---"
   ]
  },
  {
   "cell_type": "markdown",
   "metadata": {},
   "source": [
    "<span style=\"font-size:80%\">[문제3]<br><br></span>\n",
    "```Python으로 정적타입 방식의 코드를 작성할 수 있는 방법을 구글링을 통해 검색 후 설명해주세요```"
   ]
  },
  {
   "cell_type": "markdown",
   "metadata": {},
   "source": [
    "<span style=\"color:red\">답변</span>"
   ]
  },
  {
   "cell_type": "markdown",
   "metadata": {},
   "source": [
    "Python은 동적 타입 언어로, 변수의 타입을 명시하지 않아도 됩니다. 그러나 코드의 가독성과 안정성을 높이기 위해 정적 타입 힌트를 사용할 수 있습니다"
   ]
  },
  {
   "cell_type": "markdown",
   "metadata": {},
   "source": [
    "---"
   ]
  },
  {
   "cell_type": "markdown",
   "metadata": {},
   "source": [
    "<span style=\"font-size:80%\">[문제4]<br><br></span>\n",
    "```프로세스와 스레드의 차이점을 설명해주세요```"
   ]
  },
  {
   "cell_type": "markdown",
   "metadata": {},
   "source": [
    "<span style=\"color:red\">답변</span>"
   ]
  },
  {
   "cell_type": "markdown",
   "metadata": {},
   "source": [
    "프로세스는 독립적이고 고유한 자원을 가지며, 메모리를 별도로 할당받습니다. 자원 관리와 통신이 상대적으로 복잡합니다.\n",
    "\n",
    "스레드는 경량화된 실행 단위로, 메모리를 공유하며 효율적으로 작업을 처리할 수 있습니다. 그러나 동기화와 오류 처리에 주의해야 합니다.\n",
    "\n",
    "프로세스는 독립적인 실행 단위이고, 스레드는 프로세스 내에서 자원을 공유하며 실행되는 작은 단위입니다."
   ]
  },
  {
   "cell_type": "markdown",
   "metadata": {},
   "source": [
    "---"
   ]
  },
  {
   "cell_type": "markdown",
   "metadata": {},
   "source": [
    "<span style=\"font-size:80%\">[문제5]<br><br></span>\n",
    "```Python 2버전대와 3버전대의 차이를 성명해주세요```"
   ]
  },
  {
   "cell_type": "markdown",
   "metadata": {},
   "source": [
    "<span style=\"color:red\">답변</span>"
   ]
  },
  {
   "cell_type": "markdown",
   "metadata": {},
   "source": [
    "print 문법: Python 2는 print가 문으로 사용되며 괄호 없이 출력이 가능하지만, Python 3에서는 print가 함수로 바뀌어 괄호가 필수입니다.\n",
    "\n",
    "정수 나눗셈: Python 2는 정수끼리 나누면 정수 결과가 나오고, Python 3은 부동소수점 결과를 반환합니다.\n",
    "\n",
    "문자열 처리: Python 2는 문자열을 기본적으로 ASCII로 처리하고, 유니코드 문자열은 u\"...\" 형태로 사용하지만, Python 3는 문자열을 기본적으로 유니코드로 처리합니다.\n",
    "\n",
    "range()와 xrange(): Python 2에서 xrange()는 메모리 효율적인 반복자를 반환하지만, Python 3에서 range()는 메모리 효율적인 반복자를 반환합니다.\n",
    "\n",
    "input() 함수: Python 2의 input()은 실행하려고 시도하고, Python 3에서는 항상 문자열을 반환합니다."
   ]
  },
  {
   "cell_type": "markdown",
   "metadata": {},
   "source": [
    "---"
   ]
  },
  {
   "cell_type": "markdown",
   "metadata": {},
   "source": [
    "<span style=\"font-size:80%\">[문제6]<br><br></span>\n",
    "```Python에서 메모리 관리는 어떻게 이루어지는지 설명해주세요```"
   ]
  },
  {
   "cell_type": "markdown",
   "metadata": {},
   "source": [
    "<span style=\"color:red\">답변</span>"
   ]
  },
  {
   "cell_type": "markdown",
   "metadata": {},
   "source": [
    "참조 카운팅: 파이썬은 객체에 대한 참조를 추적하여, 더 이상 참조되지 않으면 메모리에서 자동으로 해제합니다. 하지만 순환 참조 문제는 해결하지 못합니다.\n",
    "\n",
    "가비지 컬렉션: 순환 참조 문제를 해결하기 위해 파이썬은 가비지 컬렉터를 사용하여 주기적으로 사용되지 않는 객체를 메모리에서 정리합니다."
   ]
  }
 ],
 "metadata": {
  "language_info": {
   "name": "python"
  }
 },
 "nbformat": 4,
 "nbformat_minor": 2
}
