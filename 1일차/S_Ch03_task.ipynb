{
 "cells": [
  {
   "cell_type": "markdown",
   "metadata": {},
   "source": [
    "<span style=\"font-size:100%\">\n",
    "\n",
    "수업은 모두 열심히 들으셨나요?\n",
    "\n",
    "간혹 강의에서 언급되지 않은 내용이 문제로 나올 수 있습니다.<br>\n",
    "그럴땐 강의 내용 외 문제는 구글링을 통해 해결해주세요<br></span>\n",
    "<span style=\"font-size:80%\">\n",
    "(구글링 또한 개발자가 갖쳐야할 역량 중에 하나랍니다 😊)\n",
    "</span>\n",
    "\n",
    "---"
   ]
  },
  {
   "cell_type": "markdown",
   "metadata": {},
   "source": [
    "<span style=\"font-size:80%\">[문제1]<br><br></span>\n",
    "```주로 작성 중인 코드의 끝을 알리는 기호로 사용되며 파이썬에서 한 줄에 작성된 서로 다른 코드를 구분 지을 때 사용할 수 있는 기호를 골라주세요```\n",
    "\n",
    "1. ' , ' (쉼표)\n",
    "2. ' + ' (더하기 기호)\n",
    "3. ' ; ' (세미콜론)\n",
    "4. ' / ' (슬래시)"
   ]
  },
  {
   "cell_type": "markdown",
   "metadata": {},
   "source": [
    "<span style=\"color:red\">답변</span> :"
   ]
  },
  {
   "cell_type": "markdown",
   "metadata": {},
   "source": [
    "2"
   ]
  },
  {
   "cell_type": "markdown",
   "metadata": {},
   "source": [
    "----"
   ]
  },
  {
   "cell_type": "markdown",
   "metadata": {},
   "source": [
    "<span style=\"font-size:80%\">[문제2]<br><br></span>\n",
    "```Python의 PEP 8은 무엇인지 설명하고 PEP 8의 핵심적인 규칙을 1개 이상을 설명해주세요```"
   ]
  },
  {
   "cell_type": "markdown",
   "metadata": {},
   "source": [
    "<span style=\"color:red\">답변</span>"
   ]
  },
  {
   "cell_type": "markdown",
   "metadata": {},
   "source": [
    "EP 8은 파이썬 코드 스타일 가이드로, 코드의 일관성과 가독성을 높이기 위한 규칙을 제시합니다. PEP 8은 파이썬 개발자들이 코드 작성 시 따르는 표준을 제공하며, 협업 시 코드 품질을 유지하는 데 도움을 줍니다.\n",
    "\n",
    "핵심 규칙:\n",
    "들여쓰기: 들여쓰기는 4개의 공백을 사용하여 코드 블록을 구분합니다. 탭 대신 공백을 사용하는 것이 권장됩니다.\n",
    "\n",
    "변수명: 변수명은 소문자와 밑줄(_)을 사용하여 구분하며, 클래스 이름은 첫 글자를 대문자로 하는 카멜케이스로 작성합니다.\n",
    "\n",
    "공백 사용: 연산자와 변수 사이에는 공백을 사용하여 가독성을 높이며, 함수와 클래스 정의 사이에 공백 라인을 두어 구분합니다."
   ]
  },
  {
   "cell_type": "markdown",
   "metadata": {},
   "source": [
    "----"
   ]
  },
  {
   "cell_type": "markdown",
   "metadata": {},
   "source": [
    "<span style=\"font-size:80%\">[문제3]<br><br></span>\n",
    "```Python에서 \"#\"이 의마하는 것은 무엇인지 설명해주세요```"
   ]
  },
  {
   "cell_type": "markdown",
   "metadata": {},
   "source": [
    "<span style=\"color:red\">답변</span>"
   ]
  },
  {
   "cell_type": "markdown",
   "metadata": {},
   "source": [
    "주석을 나타내는 기호이며, 코드 내에서 프로그램을 실행시켜도 영향을 미치지 않으며, 코드에 대한 설명과 이해하기 쉽게 만드는데 사용"
   ]
  },
  {
   "cell_type": "markdown",
   "metadata": {},
   "source": [
    "----"
   ]
  },
  {
   "cell_type": "markdown",
   "metadata": {},
   "source": [
    "<span style=\"font-size:80%\">[문제4]<br><br></span>\n",
    "```Python의 들여쓰기 장점과 기능에 대해 설명해주세요```"
   ]
  },
  {
   "cell_type": "markdown",
   "metadata": {},
   "source": [
    "<span style=\"color:red\">답변</span>"
   ]
  },
  {
   "cell_type": "markdown",
   "metadata": {},
   "source": [
    "들여쓰기의 장점\n",
    "가독성 향상: 파이썬은 코드 블록을 들여쓰기로 구분하기 때문에, 코드가 자연스럽게 구조화되어 가독성이 높아집니다. 중괄호 대신 들여쓰기를 사용함으로써 코드의 논리적 구조가 시각적으로 명확해집니다.\n",
    "\n",
    "자동화된 스타일: 파이썬은 들여쓰기를 강제하는 언어이기 때문에, 일관된 스타일을 자동으로 유지할 수 있습니다. 개발자가 들여쓰기를 놓칠 가능성이 적어 코드의 일관성을 유지하는 데 유리합니다.\n",
    "\n",
    "코드 오류 방지: 중괄호를 사용하는 언어에서는 중괄호를 실수로 빠뜨리거나 잘못 배치할 수 있지만, 파이썬에서는 들여쓰기를 정확하게 맞추지 않으면 문법 오류가 발생하므로, 자연스럽게 코드 오류를 방지할 수 있습니다.\n",
    "\n",
    "기능\n",
    "코드 블록 구분: 파이썬에서 들여쓰기는 코드 블록을 정의합니다. 예를 들어, 조건문, 반복문, 함수 정의 등에서 들여쓰기를 통해 해당 블록을 구분합니다.\n",
    "\n",
    "함수와 클래스 정의: 파이썬에서 함수나 클래스를 정의할 때도 들여쓰기를 사용하여 해당 함수나 클래스 안의 코드를 구분합니다.\n",
    "\n",
    "중첩된 구조: 조건문이나 반복문 내에서 또 다른 조건문이나 반복문을 사용할 때, 들여쓰기를 통해 중첩된 구조를 명확히 합니다."
   ]
  },
  {
   "cell_type": "markdown",
   "metadata": {},
   "source": [
    "----"
   ]
  },
  {
   "cell_type": "markdown",
   "metadata": {},
   "source": [
    "<span style=\"font-size:80%\">[문제5]<br><br></span>\n",
    "```print( )문의 기능 및 특징에 대해 설명해주세요```"
   ]
  },
  {
   "cell_type": "markdown",
   "metadata": {},
   "source": [
    "<span style=\"color:red\">답변</span>"
   ]
  },
  {
   "cell_type": "markdown",
   "metadata": {},
   "source": [
    "print() 함수는 파이썬에서 화면에 텍스트나 변수 값 등을 출력하는 데 사용됩니다. \n",
    "\n",
    "기본적으로 출력 후 자동으로 줄 바꿈을 하며, 여러 값을 출력할 때는 쉼표로 구분하고 각 값 사이에 공백을 추가합니다.\n",
    "print() 함수는 다양한 옵션을 통해 출력 형식을 조정할 수 있습니다. \n",
    "\n",
    "예를 들어, end 인자를 사용해 줄 바꿈을 방지하거나, sep 인자를 사용해 출력 값 사이의 구분자를 변경할 수 있습니다. 또한, f-string을 사용하여 출력 내용을 형식화할 수 있습니다. "
   ]
  }
 ],
 "metadata": {
  "language_info": {
   "name": "python"
  }
 },
 "nbformat": 4,
 "nbformat_minor": 2
}
