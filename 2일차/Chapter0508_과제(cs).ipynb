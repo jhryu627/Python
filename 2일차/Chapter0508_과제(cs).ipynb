{
 "cells": [
  {
   "cell_type": "markdown",
   "metadata": {
    "id": "WXEwMsfUct7U"
   },
   "source": [
    "컴퓨터 기초 지식을 의미하는 CS(Computer science)는<br>\n",
    "코딩 테스트와 함께 기술 면접에서 지원자에게 필수적으로 요구합니다.<br>\n",
    "\n",
    "수업 내용 중 기술 면접에 자주 나오는 질문 3가지와 기본적으로 알아야 할 내용 과제로 선정했습니다.<br>\n",
    "\n",
    "관련 내용에 대해서는 구글링 또는 관련 서적을 통해 상세히 공부하시고<br>\n",
    "답변은 최대한 핵심만 담아 간결하게 작성해주세요<br>\n",
    "\n",
    "기술 블로그를 운영 중이신 경우<br>\n",
    "답변 내용을 기술 블로그에 작성하신 후 링크를 답변에 남겨주셔도 됩니다.<br>"
   ]
  },
  {
   "cell_type": "markdown",
   "metadata": {
    "id": "qoyC9wF-3hvs"
   },
   "source": [
    "-----"
   ]
  },
  {
   "cell_type": "markdown",
   "metadata": {
    "id": "rAD_O3Gmc_43"
   },
   "source": [
    "[문제1]\n",
    "\n",
    "Python의 변수 할당 개념을 다른 언어와 비교해 설명해주세요\n"
   ]
  },
  {
   "cell_type": "markdown",
   "metadata": {},
   "source": [
    "python은 참조에 의해 할당이 이루어진다.\n",
    "\n",
    "java와 C언어는 값에 의해 할당이 이루어진다.\n",
    "\n",
    "예를 들면\n",
    "파이썬은 \n",
    "a = b \n",
    "b = a 라고 하고 \n",
    "a의 값을 변경해도 b는 a의 값을 가지게 된다.\n",
    "그 이유는 a, b는 동일한 리스트이 값을 참조한다. "
   ]
  },
  {
   "cell_type": "markdown",
   "metadata": {},
   "source": [
    "---"
   ]
  },
  {
   "cell_type": "markdown",
   "metadata": {
    "id": "3uK_auXYdgk2"
   },
   "source": [
    "[문제2]\n",
    "\n",
    "Python의 실수형(float) 계산 시 오차가 발생하는 이유에 대해 간단히 설명해 주세요"
   ]
  },
  {
   "cell_type": "code",
   "execution_count": null,
   "metadata": {
    "id": "9kvBxa6PdhgA"
   },
   "outputs": [],
   "source": [
    "파이썬에서 실수형(float) 계산시 오차가 발생하는 이유는 이진 부동소수점 표현 때문입니다.\n",
    "\n",
    "컴퓨터는 이진수(0과1)만을 처리할 수 있기 떄문에, 일부 실수는 정확하게 표현 할 수 없습니다.\n",
    "\n",
    "# 예시\n",
    "print(0.1 + 0.2) 을 하게 되면 0.30000000004이 표현된다.\n",
    "\n",
    "코드에서 결과는 0.3 이 아니라 0.3000~~4 로 표현되는 이유는 0.1와 0.2이가 이진수로 정확히 표현되지 않아서 발생합니다.\n"
   ]
  },
  {
   "cell_type": "markdown",
   "metadata": {},
   "source": [
    "----"
   ]
  },
  {
   "cell_type": "markdown",
   "metadata": {
    "id": "2Jte2VLKdiPm"
   },
   "source": [
    "[문제3]\n",
    "\n",
    "슬라이싱에 대해 간단히 설명해주세요"
   ]
  },
  {
   "cell_type": "code",
   "execution_count": null,
   "metadata": {
    "id": "XJhvRO-2djBh"
   },
   "outputs": [],
   "source": [
    "슬라이싱은 리스트, 문자열, 튜플과 같은 시퀀스 자료형에서 부분을 잘라내어 추출하는 방법입니다.\n",
    "\n",
    "슬라이싱의 기본 형태는 sequence[start:end:step]\n",
    "\n",
    "start: 추출을 시작할 인덱스 (포함)\n",
    "end: 추출을 끝낼 인덱스 (미포함)\n",
    "step: 인덱스를 건너뛰는 간격 (선택적)\n",
    "\n",
    "기본 슬라이싱 (start과 end 사용)\n",
    "text = \"Hello, World!\"\n",
    "print(text[0:5])  # \"Hello\"\n",
    "0부터 5 이전까지 잘라냄. → \"Hello\"\n",
    "\n",
    "간격 지정 (step)\n",
    "text = \"Hello, World!\"\n",
    "print(text[::2])  # \"Hoo ol!\"\n",
    "모든 문자에서 2칸씩 건너뛰어 잘라냄. → \"Hoo ol!\"\n",
    "\n",
    "끝에서부터 슬라이싱 (음수 인덱스 사용)\n",
    "text = \"Hello, World!\"\n",
    "print(text[-6:-1])  # \"World\"\n",
    "-6부터 -1 이전까지 잘라냄 → \"World\"\n",
    "\n",
    "전체 슬라이싱\n",
    "text = \"Hello, World!\"\n",
    "print(text[:])  # \"Hello, World!\"\n",
    "시작과 끝을 지정하지 않으면 전체를 반환."
   ]
  }
 ],
 "metadata": {
  "colab": {
   "authorship_tag": "ABX9TyP7YKA5FdtGggYfD74V7SMJ",
   "provenance": []
  },
  "kernelspec": {
   "display_name": "Python 3",
   "name": "python3"
  },
  "language_info": {
   "codemirror_mode": {
    "name": "ipython",
    "version": 3
   },
   "file_extension": ".py",
   "mimetype": "text/x-python",
   "name": "python",
   "nbconvert_exporter": "python",
   "pygments_lexer": "ipython3",
   "version": "3.13.2"
  }
 },
 "nbformat": 4,
 "nbformat_minor": 0
}
