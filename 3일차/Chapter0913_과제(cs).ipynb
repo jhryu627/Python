{
 "cells": [
  {
   "cell_type": "markdown",
   "metadata": {
    "id": "WXEwMsfUct7U"
   },
   "source": [
    "컴퓨터 기초 지식을 의미하는 CS(Computer science)는<br>\n",
    "코딩 테스트와 함께 기술 면접에서 지원자에게 필수적으로 요구합니다.<br>\n",
    "\n",
    "수업 내용 중 기술 면접에 자주 나오는 질문 3가지와 기본적으로 알아야 할 내용 과제로 선정했습니다.<br>\n",
    "\n",
    "관련 내용에 대해서는 구글링 또는 관련 서적을 통해 상세히 공부하시고<br>\n",
    "답변은 최대한 핵심만 담아 간결하게 작성해주세요<br>\n",
    "\n",
    "기술 블로그를 운영 중이신 경우<br>\n",
    "답변 내용을 기술 블로그에 작성하신 후 링크를 답변에 남겨주셔도 됩니다.<br>"
   ]
  },
  {
   "cell_type": "markdown",
   "metadata": {
    "id": "qoyC9wF-3hvs"
   },
   "source": [
    "-----"
   ]
  },
  {
   "cell_type": "markdown",
   "metadata": {
    "id": "rAD_O3Gmc_43"
   },
   "source": [
    "[문제1]\n",
    "\n",
    "list와 tuple의 주된 차이점은 무엇인가요?"
   ]
  },
  {
   "cell_type": "markdown",
   "metadata": {},
   "source": [
    "list = []  tuple = ()\n",
    "\n",
    "list는 요소 추가, 삭제, 수정가능 \n",
    "\n",
    "tuple은 한번 생성하면 수정 할 수 없음.\n",
    "\n",
    "tuple은 list 보다 메모리를 적게 사용하며, 속도가 더 빠름\n",
    "\n"
   ]
  },
  {
   "cell_type": "markdown",
   "metadata": {},
   "source": [
    "---"
   ]
  },
  {
   "cell_type": "markdown",
   "metadata": {
    "id": "3uK_auXYdgk2"
   },
   "source": [
    "[문제2]\n",
    "\n",
    "Python의 set에 대해 설명해주세요"
   ]
  },
  {
   "cell_type": "markdown",
   "metadata": {},
   "source": [
    "- 집합에 같은 값이 여러번 들어 갈 수 없고, 중복된 값은 자동으로 제거됨\n",
    "- set은 순서가 없어서 인덱스를 사용하지 못함, 따라서 특정 위치의 요소에 접근 불가능\n",
    "- set은 값을 추가하거나 삭제 할 수 있음 ex) add, remove\n"
   ]
  },
  {
   "cell_type": "markdown",
   "metadata": {},
   "source": [
    "---"
   ]
  },
  {
   "cell_type": "markdown",
   "metadata": {},
   "source": [
    "[문제3]\n",
    "\n",
    "Python의 list는 연결리스트(linked list)인가요?"
   ]
  },
  {
   "cell_type": "markdown",
   "metadata": {},
   "source": [
    "파이썬의 list는 배열 (Array) 기반이므로 연결리스트 (Linked List)와는 다릅니다. \n",
    "\n",
    "배열은 연속적인 메모리 블록에 데이터를 저장하고, 연결리스트는 포인터를 이용해 각 요소가 독립적으로 연결되어 있는 구조입니다."
   ]
  },
  {
   "cell_type": "markdown",
   "metadata": {},
   "source": [
    "---"
   ]
  },
  {
   "cell_type": "markdown",
   "metadata": {},
   "source": [
    "\n",
    "[문제4]\n",
    "\n",
    "딕셔너리 자료형에 대해 설명해주세요."
   ]
  },
  {
   "cell_type": "markdown",
   "metadata": {},
   "source": [
    "딕셔너리 자료형은 키와 값의 쌍을 저장하는 변경 가능한 데이터 구조입니다.\n",
    "\n",
    "딕셔너리는 다른 언어에서 말하는 해시맵이나 연관 배열과 비슷한 역할을 가진다.\n",
    "\n",
    "키는 불변타입이며 문자열, 숫자, 튜플 등이 될 수 있고, 값은 변경 가능한 자료형일 수도 있고, 어떤 자료형이든 상관없다.\n",
    "\n",
    "딕셔너리는 키-값 쌍을 관리할 때 매우 유용하며, 빠르고 효율적인 검색과 수정이 가능합니다.\n",
    "\n",
    "키를 사용하여 값을 빠르게 찾을 수 있고, 값의 중복을 방지하고 유일하게 데이터를 저장하는데 적합하다."
   ]
  },
  {
   "cell_type": "markdown",
   "metadata": {},
   "source": [
    "---"
   ]
  }
 ],
 "metadata": {
  "colab": {
   "authorship_tag": "ABX9TyP7YKA5FdtGggYfD74V7SMJ",
   "provenance": []
  },
  "kernelspec": {
   "display_name": "Python 3",
   "name": "python3"
  },
  "language_info": {
   "name": "python"
  }
 },
 "nbformat": 4,
 "nbformat_minor": 0
}
