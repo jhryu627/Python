{
 "cells": [
  {
   "cell_type": "markdown",
   "metadata": {},
   "source": [
    "사용자로부터 3개의 숫자를 입력받아, 이를 튜플로 만든 후 최소값과 최대값을 출력하는 함수 min_max를 작성하세요."
   ]
  },
  {
   "cell_type": "code",
   "execution_count": 43,
   "metadata": {},
   "outputs": [
    {
     "name": "stdout",
     "output_type": "stream",
     "text": [
      "입력된 숫자: (1, 2, 3)\n",
      "최소값: 1, 최대값: 3\n"
     ]
    }
   ],
   "source": [
    "def min_max():\n",
    "        nums = tuple(int(input(f\"숫자 {i+1}을 입력하세요:\")) \n",
    "        for i in range(3))\n",
    "        print(f\"입력된 숫자: {nums}\") \n",
    "        print(f\"최소값: {min(nums)}, 최대값: {max(nums)}\")\n",
    "\n",
    "min_max()"
   ]
  }
 ],
 "metadata": {
  "kernelspec": {
   "display_name": "Python 3",
   "language": "python",
   "name": "python3"
  },
  "language_info": {
   "codemirror_mode": {
    "name": "ipython",
    "version": 3
   },
   "file_extension": ".py",
   "mimetype": "text/x-python",
   "name": "python",
   "nbconvert_exporter": "python",
   "pygments_lexer": "ipython3",
   "version": "3.13.2"
  }
 },
 "nbformat": 4,
 "nbformat_minor": 2
}
